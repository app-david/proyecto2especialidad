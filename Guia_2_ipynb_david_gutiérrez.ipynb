{
  "nbformat": 4,
  "nbformat_minor": 0,
  "metadata": {
    "colab": {
      "provenance": []
    },
    "kernelspec": {
      "name": "python3",
      "display_name": "Python 3"
    },
    "language_info": {
      "name": "python"
    }
  },
  "cells": [
    {
      "cell_type": "markdown",
      "source": [
        "# **Guía 2**\n",
        "\n",
        "Objetivo: aplicar los conceptos de Pandas en la manipulación y análisis de datos estructurados. Se trabajará con Series y DataFrames, aplicando técnicas de acceso, selección, filtrado y agregación de datos.\n",
        "\n",
        "### **Caso de Negocio: Análisis de Deserción de Clientes en una Empresa de Telecomunicaciones**\n",
        "\n",
        "**Contexto**\n",
        "\n",
        "En la industria de las telecomunicaciones, la retención de clientes es un factor crítico para la sostenibilidad del negocio. La competencia es feroz y adquirir nuevos clientes suele ser más costoso que mantener a los actuales. En este análisis, exploraremos un conjunto de datos que contiene información detallada sobre clientes que han abandonado el servicio (churn) y aquellos que permanecen activos.\n",
        "\n",
        "Nuestro objetivo es identificar los factores clave que influyen en la deserción, comprender patrones de comportamiento y generar estrategias efectivas para reducir la tasa de abandono.\n",
        "\n",
        "La empresa ha experimentado un aumento en la tasa de deserción de clientes, lo que ha provocado:\n",
        "- Pérdida de ingresos recurrentes.\n",
        "- Incremento en los costos de adquisición de nuevos clientes.\n",
        "- Menor estabilidad en la base de clientes a largo plazo.\n",
        "\n",
        "Para abordar esta problemática, es crucial identificar las razones detrás de la deserción y desarrollar estrategias para mejorar la retención de clientes.\n",
        "\n"
      ],
      "metadata": {
        "id": "sVxeQki8vRXz"
      }
    },
    {
      "cell_type": "markdown",
      "source": [
        "**Entrega del Trabajo**\n",
        "\n",
        "Los estudiantes deben trabajar en grupos de entre 2 y 4 personas. Cada grupo deberá subir su trabajo a un repositorio de GitHub, asegurándose de que el código y los archivos necesarios estén bien organizados y documentados. Posteriormente, deberán enviar el enlace del repositorio en la plataforma Canvas para su evaluación.\n",
        "\n",
        "Instrucciones para la entrega:\n",
        "\n",
        "Crear un repositorio en GitHub con un nombre descriptivo para el proyecto.\n",
        "\n",
        "Subir el código en Jupyter Notebook (.ipynb) o en formato Python (.py).\n",
        "\n",
        "Incluir un archivo README.md con una breve descripción del trabajo y las instrucciones de ejecución.\n",
        "\n",
        "Compartir el enlace del repositorio en Canvas dentro del plazo establecido.\n",
        "\n"
      ],
      "metadata": {
        "id": "TBsud25XSR0w"
      }
    },
    {
      "cell_type": "markdown",
      "source": [
        "**Descripción de las variables del dataset telecom_churn**\n",
        "\n",
        "El dataset telecom_churn contiene información detallada sobre clientes de una empresa de telecomunicaciones, incluyendo datos generales, planes contratados, uso del servicio telefónico y llamadas al servicio al cliente. Su propósito principal es analizar patrones de deserción de clientes, identificados a través de la variable churn, que indica si un cliente ha abandonado la empresa (1) o sigue siendo cliente (0).\n",
        "\n",
        "Dentro del dataset, encontramos información general como el estado (state) donde reside el cliente, el código de área (area code), y el número de teléfono (phone number), aunque esta última variable no aporta información útil para el análisis, ya que es un identificador único.\n",
        "\n",
        "Además, el dataset registra el tiempo que un cliente ha estado en la empresa a través de la variable account length, lo que puede ayudar a analizar si la duración del contrato influye en la deserción. También se incluyen detalles sobre los planes contratados, como si el cliente tiene un plan internacional (international plan), que le permite realizar llamadas internacionales, o un buzón de voz (voice mail plan), que le permite recibir mensajes de voz.\n",
        "\n",
        "En cuanto al uso del servicio, se registran datos detallados sobre el tiempo en llamadas y los costos asociados. Se divide en tres períodos del día: diurno (total day minutes, total day calls, total day charge), vespertino (total eve minutes, total eve calls, total eve charge) y nocturno (total night minutes, total night calls, total night charge), lo que permite evaluar si hay patrones de consumo que influyen en la deserción. También se incluye información sobre el uso del servicio internacional, con variables como total intl minutes (minutos en llamadas internacionales), total intl calls (cantidad de llamadas internacionales) y total intl charge (costos por llamadas internacionales).\n",
        "\n",
        "Otro aspecto clave del dataset es el número de llamadas al servicio al cliente (customer service calls), ya que una mayor cantidad de llamadas puede indicar insatisfacción y estar relacionada con la decisión del cliente de abandonar la empresa.\n",
        "\n",
        "Finalmente, la variable más importante del análisis es churn, que indica si un cliente ha desertado de la empresa. A partir de esta variable, podemos analizar qué factores influyen en la deserción y encontrar patrones en los clientes que tienen mayor probabilidad de abandonar el servicio.\n"
      ],
      "metadata": {
        "id": "R1eyqBGSScta"
      }
    },
    {
      "cell_type": "markdown",
      "source": [
        "**Exploración y Limpieza de Datos**\n",
        "\n",
        "Cargar y explorar el dataset\n",
        "\n",
        "Importa Pandas y carga el dataset telecom_churn.csv en un DataFrame.\n",
        "\n",
        "Muestra las primeras 5 filas del DataFrame.\n",
        "\n",
        "Verifica cuántas filas y columnas tiene el dataset.\n",
        "\n",
        "Muestra información general del dataset, incluyendo los tipos de datos.\n",
        "\n",
        "Identifica si hay valores nulos en alguna columna."
      ],
      "metadata": {
        "id": "-gqRGJ8yFs5Y"
      }
    },
    {
      "cell_type": "code",
      "execution_count": null,
      "metadata": {
        "id": "wuoyvrE0vQ09",
        "colab": {
          "base_uri": "https://localhost:8080/"
        },
        "outputId": "9c9ee30d-1fd0-4c9b-af5c-2bc2cada3257"
      },
      "outputs": [
        {
          "output_type": "stream",
          "name": "stdout",
          "text": [
            "  state  account length  area code phone number international plan  \\\n",
            "0    KS             128        415     382-4657                 no   \n",
            "1    OH             107        415     371-7191                 no   \n",
            "2    NJ             137        415     358-1921                 no   \n",
            "3    OH              84        408     375-9999                yes   \n",
            "4    OK              75        415     330-6626                yes   \n",
            "\n",
            "  voice mail plan  number vmail messages  total day minutes  total day calls  \\\n",
            "0             yes                     25              265.1              110   \n",
            "1             yes                     26              161.6              123   \n",
            "2              no                      0              243.4              114   \n",
            "3              no                      0              299.4               71   \n",
            "4              no                      0              166.7              113   \n",
            "\n",
            "   total day charge  ...  total eve calls  total eve charge  \\\n",
            "0             45.07  ...               99             16.78   \n",
            "1             27.47  ...              103             16.62   \n",
            "2             41.38  ...              110             10.30   \n",
            "3             50.90  ...               88              5.26   \n",
            "4             28.34  ...              122             12.61   \n",
            "\n",
            "   total night minutes  total night calls  total night charge  \\\n",
            "0                244.7                 91               11.01   \n",
            "1                254.4                103               11.45   \n",
            "2                162.6                104                7.32   \n",
            "3                196.9                 89                8.86   \n",
            "4                186.9                121                8.41   \n",
            "\n",
            "   total intl minutes  total intl calls  total intl charge  \\\n",
            "0                10.0                 3               2.70   \n",
            "1                13.7                 3               3.70   \n",
            "2                12.2                 5               3.29   \n",
            "3                 6.6                 7               1.78   \n",
            "4                10.1                 3               2.73   \n",
            "\n",
            "   customer service calls  churn  \n",
            "0                       1  False  \n",
            "1                       1  False  \n",
            "2                       0  False  \n",
            "3                       2  False  \n",
            "4                       3  False  \n",
            "\n",
            "[5 rows x 21 columns]\n",
            "\n",
            "Dimensiones del dataset (filas, columnas): (3333, 21)\n",
            "\n",
            "Información del dataset:\n",
            "<class 'pandas.core.frame.DataFrame'>\n",
            "RangeIndex: 3333 entries, 0 to 3332\n",
            "Data columns (total 21 columns):\n",
            " #   Column                  Non-Null Count  Dtype  \n",
            "---  ------                  --------------  -----  \n",
            " 0   state                   3333 non-null   object \n",
            " 1   account length          3333 non-null   int64  \n",
            " 2   area code               3333 non-null   int64  \n",
            " 3   phone number            3333 non-null   object \n",
            " 4   international plan      3333 non-null   object \n",
            " 5   voice mail plan         3333 non-null   object \n",
            " 6   number vmail messages   3333 non-null   int64  \n",
            " 7   total day minutes       3333 non-null   float64\n",
            " 8   total day calls         3333 non-null   int64  \n",
            " 9   total day charge        3333 non-null   float64\n",
            " 10  total eve minutes       3333 non-null   float64\n",
            " 11  total eve calls         3333 non-null   int64  \n",
            " 12  total eve charge        3333 non-null   float64\n",
            " 13  total night minutes     3333 non-null   float64\n",
            " 14  total night calls       3333 non-null   int64  \n",
            " 15  total night charge      3333 non-null   float64\n",
            " 16  total intl minutes      3333 non-null   float64\n",
            " 17  total intl calls        3333 non-null   int64  \n",
            " 18  total intl charge       3333 non-null   float64\n",
            " 19  customer service calls  3333 non-null   int64  \n",
            " 20  churn                   3333 non-null   bool   \n",
            "dtypes: bool(1), float64(8), int64(8), object(4)\n",
            "memory usage: 524.2+ KB\n",
            "None\n",
            "\n",
            "Valores nulos por columna:\n",
            "state                     0\n",
            "account length            0\n",
            "area code                 0\n",
            "phone number              0\n",
            "international plan        0\n",
            "voice mail plan           0\n",
            "number vmail messages     0\n",
            "total day minutes         0\n",
            "total day calls           0\n",
            "total day charge          0\n",
            "total eve minutes         0\n",
            "total eve calls           0\n",
            "total eve charge          0\n",
            "total night minutes       0\n",
            "total night calls         0\n",
            "total night charge        0\n",
            "total intl minutes        0\n",
            "total intl calls          0\n",
            "total intl charge         0\n",
            "customer service calls    0\n",
            "churn                     0\n",
            "dtype: int64\n"
          ]
        }
      ],
      "source": [
        "import pandas as pd\n",
        "\n",
        "# URL del archivo en formato CSV\n",
        "url = \"https://docs.google.com/spreadsheets/d/1EEC31J6XyzrkCQAuyEVFag7S4LmMGn7minx70WHopsI/export?format=csv\"\n",
        "\n",
        "# Cargar el dataset en Pandas\n",
        "df = pd.read_csv(url)\n",
        "\n",
        "# Mostrar las primeras filas\n",
        "print(df.head())\n",
        "\n",
        "# Verificar cuántas filas y columnas tiene el dataset\n",
        "print(\"\\nDimensiones del dataset (filas, columnas):\", df.shape)\n",
        "\n",
        "# Mostrar información general del dataset, incluyendo tipos de datos\n",
        "print(\"\\nInformación del dataset:\")\n",
        "print(df.info())\n",
        "\n",
        "# Identificar si hay valores nulos en alguna columna\n",
        "print(\"\\nValores nulos por columna:\")\n",
        "print(df.isnull().sum())"
      ]
    },
    {
      "cell_type": "markdown",
      "source": [
        "**Análisis de Churn y Factores Relacionados**\n",
        "\n",
        "Calcula el porcentaje de clientes que han desertado (churn = 1).\n",
        "\n",
        "Identifica si los clientes con plan internacional (international plan) tienen mayor tasa de deserción.\n",
        "\n",
        "Identifica si los clientes con buzón de voz (voice mail plan) tienen menor tasa de deserción."
      ],
      "metadata": {
        "id": "PIGXq-ijFgb4"
      }
    },
    {
      "cell_type": "code",
      "source": [
        "# Calcular el porcentaje de clientes que han desertado\n",
        "churn_rate = df['churn'].mean() * 100\n",
        "print(f\"Porcentaje total de clientes que han desertado: {churn_rate:.2f}%\\n\")\n",
        "\n",
        "# Calcular la tasa de deserción según el plan internacional\n",
        "churn_by_plan = df.groupby('international plan')['churn'].mean() * 100\n",
        "\n",
        "# Mostrar resultados del plan internacional\n",
        "print(\"Tasa de deserción según el PLAN INTERNACIONAL:\")\n",
        "print(f\"Clientes SIN plan internacional: {churn_by_plan['no']:.2f}% de deserción\")\n",
        "print(f\"Clientes CON plan internacional: {churn_by_plan['yes']:.2f}% de deserción\\n\")\n",
        "\n",
        "# Calcular la tasa de deserción según el buzón de voz\n",
        "churn_by_voicemail = df.groupby('voice mail plan')['churn'].mean() * 100\n",
        "\n",
        "# Mostrar resultados del buzón de voz\n",
        "print(\"Tasa de deserción según el BUZÓN DE VOZ:\")\n",
        "print(f\"Clientes SIN buzón de voz: {churn_by_voicemail['no']:.2f}% de deserción\")\n",
        "print(f\"Clientes CON buzón de voz: {churn_by_voicemail['yes']:.2f}% de deserción\\n\")\n",
        "\n",
        "# Conclusiones basadas en los resultados\n",
        "print(\"CONCLUSIONES:\")\n",
        "if churn_by_plan['yes'] > churn_by_plan['no']:\n",
        "    print(\"Los clientes con PLAN INTERNACIONAL tienen una tasa de deserción MÁS ALTA.\")\n",
        "else:\n",
        "    print(\"Los clientes con PLAN INTERNACIONAL tienen una tasa de deserción MÁS BAJA.\")\n",
        "\n",
        "if churn_by_voicemail['yes'] < churn_by_voicemail['no']:\n",
        "    print(\"Los clientes con BUZÓN DE VOZ tienen una tasa de deserción MÁS BAJA.\")\n",
        "else:\n",
        "    print(\"Los clientes con BUZÓN DE VOZ tienen una tasa de deserción MÁS ALTA.\")\n",
        "\n",
        "\n",
        "\n",
        "\n",
        "\n"
      ],
      "metadata": {
        "id": "3_TFqdwBwUD-",
        "colab": {
          "base_uri": "https://localhost:8080/"
        },
        "outputId": "82fefb8a-1fa5-488f-8daf-43be776d856f"
      },
      "execution_count": null,
      "outputs": [
        {
          "output_type": "stream",
          "name": "stdout",
          "text": [
            "Porcentaje total de clientes que han desertado: 14.49%\n",
            "\n",
            "Tasa de deserción según el PLAN INTERNACIONAL:\n",
            "Clientes SIN plan internacional: 11.50% de deserción\n",
            "Clientes CON plan internacional: 42.41% de deserción\n",
            "\n",
            "Tasa de deserción según el BUZÓN DE VOZ:\n",
            "Clientes SIN buzón de voz: 16.72% de deserción\n",
            "Clientes CON buzón de voz: 8.68% de deserción\n",
            "\n",
            "CONCLUSIONES:\n",
            "Los clientes con PLAN INTERNACIONAL tienen una tasa de deserción MÁS ALTA.\n",
            "Los clientes con BUZÓN DE VOZ tienen una tasa de deserción MÁS BAJA.\n"
          ]
        }
      ]
    },
    {
      "cell_type": "markdown",
      "source": [
        "**Análisis de la Duración del Servicio y Deserción**\n",
        "\n",
        "¿Cuál es la duración promedio de la cuenta (account length) entre clientes que desertaron y los que permanecen?\n",
        "\n",
        "¿Los clientes con cuentas más antiguas tienen más probabilidades de desertar?"
      ],
      "metadata": {
        "id": "yL8Y_juFFup7"
      }
    },
    {
      "cell_type": "code",
      "source": [
        "# Calcular la duración promedio de la cuenta para clientes que desertaron y los que permanecen\n",
        "account_length_mean = df.groupby('churn')['account length'].mean()\n",
        "\n",
        "# Mostrar resultados\n",
        "print(\"Duración promedio de la cuenta según el estado de deserción:\")\n",
        "print(f\"Clientes que NO han desertado: {account_length_mean[0]:.2f} días en promedio\")\n",
        "print(f\"Clientes que SÍ han desertado: {account_length_mean[1]:.2f} días en promedio\\n\")\n",
        "\n",
        "# Comparación visual con un histograma\n",
        "import matplotlib.pyplot as plt\n",
        "import seaborn as sns\n",
        "\n",
        "plt.figure(figsize=(10,5))\n",
        "sns.histplot(df[df['churn'] == 0]['account length'], label='Clientes Activos', color='blue', kde=True, bins=30)\n",
        "sns.histplot(df[df['churn'] == 1]['account length'], label='Clientes Desertores', color='red', kde=True, bins=30)\n",
        "plt.xlabel(\"Duración de la cuenta (días)\")\n",
        "plt.ylabel(\"Frecuencia\")\n",
        "plt.title(\"Distribución de la Duración de la Cuenta entre Clientes Activos y Desertores\")\n",
        "plt.legend()\n",
        "plt.show()\n"
      ],
      "metadata": {
        "id": "7ViU0n6lGFao",
        "colab": {
          "base_uri": "https://localhost:8080/",
          "height": 655
        },
        "outputId": "a12db059-cf0c-4d69-ce21-70c8009c908a"
      },
      "execution_count": null,
      "outputs": [
        {
          "output_type": "stream",
          "name": "stdout",
          "text": [
            "Duración promedio de la cuenta según el estado de deserción:\n",
            "Clientes que NO han desertado: 100.79 días en promedio\n",
            "Clientes que SÍ han desertado: 102.66 días en promedio\n",
            "\n"
          ]
        },
        {
          "output_type": "stream",
          "name": "stderr",
          "text": [
            "<ipython-input-8-5a8033e29cf7>:6: FutureWarning: Series.__getitem__ treating keys as positions is deprecated. In a future version, integer keys will always be treated as labels (consistent with DataFrame behavior). To access a value by position, use `ser.iloc[pos]`\n",
            "  print(f\"Clientes que NO han desertado: {account_length_mean[0]:.2f} días en promedio\")\n",
            "<ipython-input-8-5a8033e29cf7>:7: FutureWarning: Series.__getitem__ treating keys as positions is deprecated. In a future version, integer keys will always be treated as labels (consistent with DataFrame behavior). To access a value by position, use `ser.iloc[pos]`\n",
            "  print(f\"Clientes que SÍ han desertado: {account_length_mean[1]:.2f} días en promedio\\n\")\n"
          ]
        },
        {
          "output_type": "display_data",
          "data": {
            "text/plain": [
              "<Figure size 1000x500 with 1 Axes>"
            ],
            "image/png": "[encoded data removed]"
          },
          "metadata": {}
        }
      ]
    },
    {
      "cell_type": "markdown",
      "source": [
        "**Relación entre Deserción y Uso del Servicio**\n",
        "\n",
        "Compara la cantidad de minutos usados en llamadas diurnas (total day minutes) entre clientes con y sin churn.\n",
        "\n",
        "Compara la cantidad de minutos usados en llamadas nocturnas (total night minutes).\n",
        "\n",
        "Compara el número total de llamadas (total day calls) entre clientes con y sin churn."
      ],
      "metadata": {
        "id": "vyaa82K0GF6B"
      }
    },
    {
      "cell_type": "code",
      "source": [
        "# Comparación de minutos en llamadas diurnas\n",
        "day_minutes_mean = df.groupby('churn')['total day minutes'].mean()\n",
        "print(\"Promedio de minutos en llamadas diurnas:\\n\", day_minutes_mean)\n",
        "\n",
        "# Comparación de minutos en llamadas nocturnas\n",
        "night_minutes_mean = df.groupby('churn')['total night minutes'].mean()\n",
        "print(\"\\nPromedio de minutos en llamadas nocturnas:\\n\", night_minutes_mean)\n",
        "\n",
        "# Comparación del número total de llamadas diurnas\n",
        "day_calls_mean = df.groupby('churn')['total day calls'].mean()\n",
        "print(\"\\nPromedio de llamadas diurnas:\\n\", day_calls_mean)\n"
      ],
      "metadata": {
        "id": "d4aPKcv2GrpL",
        "colab": {
          "base_uri": "https://localhost:8080/"
        },
        "outputId": "3c8d2ea8-a428-4f62-d97d-8017294f2fda"
      },
      "execution_count": null,
      "outputs": [
        {
          "output_type": "stream",
          "name": "stdout",
          "text": [
            "Promedio de minutos en llamadas diurnas:\n",
            " churn\n",
            "False    175.175754\n",
            "True     206.914079\n",
            "Name: total day minutes, dtype: float64\n",
            "\n",
            "Promedio de minutos en llamadas nocturnas:\n",
            " churn\n",
            "False    200.133193\n",
            "True     205.231677\n",
            "Name: total night minutes, dtype: float64\n",
            "\n",
            "Promedio de llamadas diurnas:\n",
            " churn\n",
            "False    100.283158\n",
            "True     101.335404\n",
            "Name: total day calls, dtype: float64\n"
          ]
        }
      ]
    },
    {
      "cell_type": "markdown",
      "source": [
        "**Impacto de las Llamadas al Servicio al Cliente en la Deserción**\n",
        "\n",
        "Calcula el número promedio de llamadas al servicio al cliente (customer service calls) entre clientes que desertaron y los que no.\n",
        "\n",
        "Divide los clientes en dos grupos:\n",
        "\n",
        "- Grupo 1: Clientes que llamaron más de 3 veces al servicio al cliente.\n",
        "- Grupo 2: Clientes que llamaron 3 veces o menos.\n",
        "Compara la tasa de churn entre ambos grupos."
      ],
      "metadata": {
        "id": "aKl9LnZgGsDT"
      }
    },
    {
      "cell_type": "code",
      "source": [
        "# Calcular el número promedio de llamadas al servicio al cliente por grupo\n",
        "promedio_llamadas_servicio = df.groupby('churn')['customer service calls'].mean()\n",
        "print(\"Promedio de llamadas al servicio al cliente según deserción:\\n\", promedio_llamadas_servicio)\n",
        "\n",
        "# Crear los grupos según la cantidad de llamadas al servicio al cliente\n",
        "df['grupo_llamadas_altas'] = df['customer service calls'] > 3\n",
        "\n",
        "# Comparar la tasa de deserción entre ambos grupos\n",
        "tasa_desercion_llamadas = df.groupby('grupo_llamadas_altas')['churn'].mean() * 100\n",
        "print(\"\\nTasa de deserción según número de llamadas al servicio al cliente:\\n\", tasa_desercion_llamadas)\n",
        "\n"
      ],
      "metadata": {
        "id": "ac9qDXgrGz-M",
        "colab": {
          "base_uri": "https://localhost:8080/"
        },
        "outputId": "b54068c5-923e-4841-9811-bb01b8f4a5ff"
      },
      "execution_count": null,
      "outputs": [
        {
          "output_type": "stream",
          "name": "stdout",
          "text": [
            "Promedio de llamadas al servicio al cliente según deserción:\n",
            " churn\n",
            "False    1.449825\n",
            "True     2.229814\n",
            "Name: customer service calls, dtype: float64\n",
            "\n",
            "Tasa de deserción según número de llamadas al servicio al cliente:\n",
            " grupo_llamadas_altas\n",
            "False    11.252446\n",
            "True     51.685393\n",
            "Name: churn, dtype: float64\n"
          ]
        }
      ]
    },
    {
      "cell_type": "markdown",
      "source": [
        "**Análisis del Costo de las Llamadas y Churn**\n",
        "\n",
        "Compara el costo total de llamadas diurnas (total day charge) entre clientes con y sin churn.\n",
        "\n",
        "Compara el costo total de llamadas nocturnas (total night charge).\n",
        "\n",
        "¿Los clientes con mayor gasto en llamadas internacionales (total intl charge) tienen más probabilidades de desertar?"
      ],
      "metadata": {
        "id": "U7oTziiyG0Wb"
      }
    },
    {
      "cell_type": "code",
      "source": [
        "# Comparar el costo total de llamadas diurnas entre clientes con y sin deserción\n",
        "costo_llamadas_diurnas = df.groupby('churn')['total day charge'].mean()\n",
        "print(\"Costo promedio de llamadas diurnas según deserción:\\n\", costo_llamadas_diurnas)\n",
        "\n",
        "# Comparar el costo total de llamadas nocturnas entre clientes con y sin deserción\n",
        "costo_llamadas_nocturnas = df.groupby('churn')['total night charge'].mean()\n",
        "print(\"\\nCosto promedio de llamadas nocturnas según deserción:\\n\", costo_llamadas_nocturnas)\n",
        "\n",
        "# Comparar el gasto en llamadas internacionales entre clientes con y sin deserción\n",
        "costo_llamadas_internacionales = df.groupby('churn')['total intl charge'].mean()\n",
        "print(\"\\nCosto promedio de llamadas internacionales según deserción:\\n\", costo_llamadas_internacionales)\n"
      ],
      "metadata": {
        "id": "YWGmcLdoIYwx",
        "colab": {
          "base_uri": "https://localhost:8080/"
        },
        "outputId": "68035af9-5284-42f7-efbf-3a0488251fd7"
      },
      "execution_count": null,
      "outputs": [
        {
          "output_type": "stream",
          "name": "stdout",
          "text": [
            "Costo promedio de llamadas diurnas según deserción:\n",
            " churn\n",
            "False    29.780421\n",
            "True     35.175921\n",
            "Name: total day charge, dtype: float64\n",
            "\n",
            "Costo promedio de llamadas nocturnas según deserción:\n",
            " churn\n",
            "False    9.006074\n",
            "True     9.235528\n",
            "Name: total night charge, dtype: float64\n",
            "\n",
            "Costo promedio de llamadas internacionales según deserción:\n",
            " churn\n",
            "False    2.743404\n",
            "True     2.889545\n",
            "Name: total intl charge, dtype: float64\n"
          ]
        }
      ]
    }
  ]
}